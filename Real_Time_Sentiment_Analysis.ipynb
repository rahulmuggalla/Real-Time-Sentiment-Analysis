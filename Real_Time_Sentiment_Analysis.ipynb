{
  "nbformat": 4,
  "nbformat_minor": 0,
  "metadata": {
    "colab": {
      "name": "Real Time Sentiment Analysis.ipynb",
      "provenance": [],
      "collapsed_sections": []
    },
    "kernelspec": {
      "name": "python3",
      "display_name": "Python 3"
    },
    "language_info": {
      "name": "python"
    }
  },
  "cells": [
    {
      "cell_type": "markdown",
      "metadata": {
        "id": "Wi8y_6qGJl50"
      },
      "source": [
        "# Real Time Sentiment Analysis"
      ]
    },
    {
      "cell_type": "markdown",
      "metadata": {
        "id": "KWQeuvAxbBhr"
      },
      "source": [
        "The main purpose of sentiment analysis is to analyze the opinions of users of a particular product or service, which helps customers understand the quality of the product. For example, every time Apple releases a new iPhone, we see a lot of people giving their opinion on it, some like it and some criticize it, in the end, all people’s opinions help us decide whether we should buy the new iPhone or not.\n",
        "\n",
        "\n",
        "Opinions are nothing more than people’s feelings about a particular product, which helps a business improve its product and helps customers decide whether or not to buy the product. Now, what if you want to analyze people’s feelings in real-time, i.e. ask a user about your product and understand your product in real-time. In the section below, I’ll walk you through a simple way of real-time sentiment analysis using Python.\n",
        "\n",
        "\n",
        "To analyze feelings in real-time, we need to request input from the user and then analyze user feelings given by him/her as input. So for this real-time sentiment analysis task using Python, I will be using the NLTK library in Python which is a very useful tool for all the tasks of natural language processing. So let’s import the NLTK library and start with sentiment analysis:"
      ]
    },
    {
      "cell_type": "code",
      "metadata": {
        "colab": {
          "base_uri": "https://localhost:8080/"
        },
        "id": "5lKjTFZ_HTQI",
        "outputId": "5b0d43d6-b0c3-4fbf-fb89-4bf8bab11041"
      },
      "source": [
        "#importing libraries\n",
        "import nltk #natural lanng toolkkit(nltk) helps the computer 2 analysis, preprocess, & understand the written text\n",
        "\n",
        "from nltk.sentiment.vader import SentimentIntensityAnalyzer #text analysis method that detects polarity(Ex: a +ve / -ve opinion)"
      ],
      "execution_count": 1,
      "outputs": [
        {
          "output_type": "stream",
          "name": "stderr",
          "text": [
            "/usr/local/lib/python3.7/dist-packages/nltk/twitter/__init__.py:20: UserWarning: The twython library has not been installed. Some functionality from the twitter package will not be available.\n",
            "  warnings.warn(\"The twython library has not been installed. \"\n"
          ]
        }
      ]
    },
    {
      "cell_type": "code",
      "source": [
        "#frm nltk v r downloading the vader_lexicon\n",
        "#VADER(Valence Aware Dictionary and sEntiment Reasoner) is a lexicon & rule-based sentiment analysis tool\n",
        "nltk.download('vader_lexicon')"
      ],
      "metadata": {
        "colab": {
          "base_uri": "https://localhost:8080/"
        },
        "id": "0jFnGzZ03fEz",
        "outputId": "656de3a3-3026-48e8-8018-b3efca5b0d91"
      },
      "execution_count": 2,
      "outputs": [
        {
          "output_type": "stream",
          "name": "stdout",
          "text": [
            "[nltk_data] Downloading package vader_lexicon to /root/nltk_data...\n"
          ]
        },
        {
          "output_type": "execute_result",
          "data": {
            "text/plain": [
              "True"
            ]
          },
          "metadata": {},
          "execution_count": 2
        }
      ]
    },
    {
      "cell_type": "markdown",
      "metadata": {
        "id": "KYurss1vbLDz"
      },
      "source": [
        "So, I will be using the SentimentIntensityAnalyzer() class provided by the NLTK library in Python. Now let’s take a user input and have a look at the sentiment score:"
      ]
    },
    {
      "cell_type": "code",
      "metadata": {
        "colab": {
          "base_uri": "https://localhost:8080/"
        },
        "id": "XXOZTChSJDDk",
        "outputId": "928aa25a-f6e0-41d7-f466-9d34b946b411"
      },
      "source": [
        "user_input = input(\"Please Rate Our Services >>: \")\n",
        "score = SentimentIntensityAnalyzer().polarity_scores(user_input)\n",
        "print(score)"
      ],
      "execution_count": 3,
      "outputs": [
        {
          "output_type": "stream",
          "name": "stdout",
          "text": [
            "Please Rate Our Services >>: some what better\n",
            "{'neg': 0.0, 'neu': 0.408, 'pos': 0.592, 'compound': 0.4404}\n"
          ]
        }
      ]
    },
    {
      "cell_type": "markdown",
      "metadata": {
        "id": "7GXmqsq7bOCz"
      },
      "source": [
        "Final Step:\n",
        "So the sentiments score looks like a dictionary with keys as ‘neg’, ‘neu’, ‘pos’, ‘compound’. The above output says that the sentiment of the user is 100% positive. So we can use an if-else statement by passing a condition that if the value of the key(neg) is not 0.0 then the sentiment is negative and otherwise it’s positive. So here is the complete Python code for real-time sentiment analysis:"
      ]
    },
    {
      "cell_type": "code",
      "metadata": {
        "colab": {
          "base_uri": "https://localhost:8080/"
        },
        "id": "j_LLFiHqJKAs",
        "outputId": "ca4e1fd3-808a-4c7a-ec84-4f4f0fba64ad"
      },
      "source": [
        "user_input = input(\"Please Rate Our Services >>: \")\n",
        "score = SentimentIntensityAnalyzer().polarity_scores(user_input)\n",
        "if score[\"neg\"] != 0:\n",
        "      print(\"Negative\")\n",
        "else:\n",
        "      print(\"Positive\")"
      ],
      "execution_count": 4,
      "outputs": [
        {
          "output_type": "stream",
          "name": "stdout",
          "text": [
            "Please Rate Our Services >>: somme what better\n",
            "Positive\n"
          ]
        }
      ]
    },
    {
      "cell_type": "markdown",
      "metadata": {
        "id": "t0WruuqxbRJs"
      },
      "source": [
        "## Summary\n",
        "So this is how we can predict Real time sentiment analysis.\n",
        "So now we can see positive or negative as an output instead of the sentiment scores. I hope you liked this project on Realtime Sentiment Analysis using Python. "
      ]
    },
    {
      "cell_type": "markdown",
      "metadata": {
        "id": "vgL6wblpQUtX"
      },
      "source": [
        "Saving the trained model"
      ]
    },
    {
      "cell_type": "code",
      "source": [
        "import pickle #keeps track of the objects it has already serialized ==> allows saving model in very little tym"
      ],
      "metadata": {
        "id": "q8I4SkIO6_L4"
      },
      "execution_count": 5,
      "outputs": []
    },
    {
      "cell_type": "code",
      "source": [
        "#save the model trained in the file \"trained_model.sav\" to a new file called \"sentiment_analysis_trained_model.pkl\"\n",
        "filename = 'sentiment_analysis_trained_model.sav'\n",
        "pickle.dump(score, open(filename, 'wb'))"
      ],
      "metadata": {
        "id": "lSL2VTBQ7Bkh"
      },
      "execution_count": 6,
      "outputs": []
    },
    {
      "cell_type": "code",
      "source": [
        "#loading the saved model\n",
        "loaded_model = pickle.load(open('sentiment_analysis_trained_model.sav', 'rb'))"
      ],
      "metadata": {
        "id": "En1sDxkz7QDx"
      },
      "execution_count": 7,
      "outputs": []
    },
    {
      "cell_type": "code",
      "source": [
        "user_input = input(\"Please Rate Our Services >>: \")\n",
        "score = SentimentIntensityAnalyzer().polarity_scores(user_input)\n",
        "if score[\"neg\"] != 0:\n",
        "      print(\"Negative\")\n",
        "else:\n",
        "      print(\"Positive\")"
      ],
      "metadata": {
        "colab": {
          "base_uri": "https://localhost:8080/"
        },
        "id": "vaFR13ha7T2g",
        "outputId": "1ef6895a-3dee-48ea-cc1d-b5556e03b860"
      },
      "execution_count": 8,
      "outputs": [
        {
          "output_type": "stream",
          "name": "stdout",
          "text": [
            "Please Rate Our Services >>: sm wht better\n",
            "Positive\n"
          ]
        }
      ]
    }
  ]
}